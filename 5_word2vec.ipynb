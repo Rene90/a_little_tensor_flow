{
 "cells": [
  {
   "cell_type": "markdown",
   "metadata": {
    "colab_type": "text",
    "id": "D7tqLMoKF6uq"
   },
   "source": [
    "Deep Learning\n",
    "=============\n",
    "\n",
    "Assignment 5\n",
    "------------\n",
    "\n",
    "The goal of this assignment is to train a skip-gram model over [Text8](http://mattmahoney.net/dc/textdata) data."
   ]
  },
  {
   "cell_type": "code",
   "execution_count": 1,
   "metadata": {
    "cellView": "both",
    "colab": {
     "autoexec": {
      "startup": false,
      "wait_interval": 0
     }
    },
    "colab_type": "code",
    "collapsed": true,
    "id": "0K1ZyLn04QZf"
   },
   "outputs": [],
   "source": [
    "# These are all the modules we'll be using later. Make sure you can import them\n",
    "# before proceeding further.\n",
    "import collections\n",
    "import math\n",
    "import numpy as np\n",
    "import os\n",
    "import random\n",
    "import tensorflow as tf\n",
    "import urllib\n",
    "import zipfile\n",
    "from matplotlib import pylab\n",
    "from sklearn.manifold import TSNE"
   ]
  },
  {
   "cell_type": "markdown",
   "metadata": {
    "colab_type": "text",
    "id": "aCjPJE944bkV"
   },
   "source": [
    "Download the data from the source website if necessary."
   ]
  },
  {
   "cell_type": "code",
   "execution_count": 2,
   "metadata": {
    "cellView": "both",
    "colab": {
     "autoexec": {
      "startup": false,
      "wait_interval": 0
     },
     "output_extras": [
      {
       "item_id": 1
      }
     ]
    },
    "colab_type": "code",
    "collapsed": false,
    "executionInfo": {
     "elapsed": 14640,
     "status": "ok",
     "timestamp": 1445964482948,
     "user": {
      "color": "#1FA15D",
      "displayName": "Vincent Vanhoucke",
      "isAnonymous": false,
      "isMe": true,
      "permissionId": "05076109866853157986",
      "photoUrl": "//lh6.googleusercontent.com/-cCJa7dTDcgQ/AAAAAAAAAAI/AAAAAAAACgw/r2EZ_8oYer4/s50-c-k-no/photo.jpg",
      "sessionId": "2f1ffade4c9f20de",
      "userId": "102167687554210253930"
     },
     "user_tz": 420
    },
    "id": "RJ-o3UBUFtCw",
    "outputId": "c4ec222c-80b5-4298-e635-93ca9f79c3b7"
   },
   "outputs": [
    {
     "name": "stdout",
     "output_type": "stream",
     "text": [
      "Found and verified text8.zip\n"
     ]
    }
   ],
   "source": [
    "url = 'http://mattmahoney.net/dc/'\n",
    "\n",
    "def maybe_download(filename, expected_bytes):\n",
    "  \"\"\"Download a file if not present, and make sure it's the right size.\"\"\"\n",
    "  if not os.path.exists(filename):\n",
    "    filename, _ = urllib.urlretrieve(url + filename, filename)\n",
    "  statinfo = os.stat(filename)\n",
    "  if statinfo.st_size == expected_bytes:\n",
    "    print 'Found and verified', filename\n",
    "  else:\n",
    "    print statinfo.st_size\n",
    "    raise Exception(\n",
    "      'Failed to verify ' + filename + '. Can you get to it with a browser?')\n",
    "  return filename\n",
    "\n",
    "filename = maybe_download('text8.zip', 31344016)"
   ]
  },
  {
   "cell_type": "markdown",
   "metadata": {
    "colab_type": "text",
    "id": "Zqz3XiqI4mZT"
   },
   "source": [
    "Read the data into a string."
   ]
  },
  {
   "cell_type": "code",
   "execution_count": 3,
   "metadata": {
    "cellView": "both",
    "colab": {
     "autoexec": {
      "startup": false,
      "wait_interval": 0
     },
     "output_extras": [
      {
       "item_id": 1
      }
     ]
    },
    "colab_type": "code",
    "collapsed": false,
    "executionInfo": {
     "elapsed": 28844,
     "status": "ok",
     "timestamp": 1445964497165,
     "user": {
      "color": "#1FA15D",
      "displayName": "Vincent Vanhoucke",
      "isAnonymous": false,
      "isMe": true,
      "permissionId": "05076109866853157986",
      "photoUrl": "//lh6.googleusercontent.com/-cCJa7dTDcgQ/AAAAAAAAAAI/AAAAAAAACgw/r2EZ_8oYer4/s50-c-k-no/photo.jpg",
      "sessionId": "2f1ffade4c9f20de",
      "userId": "102167687554210253930"
     },
     "user_tz": 420
    },
    "id": "Mvf09fjugFU_",
    "outputId": "e3a928b4-1645-4fe8-be17-fcf47de5716d"
   },
   "outputs": [
    {
     "name": "stdout",
     "output_type": "stream",
     "text": [
      "Data size 17005207\n"
     ]
    }
   ],
   "source": [
    "def read_data(filename):\n",
    "  f = zipfile.ZipFile(filename)\n",
    "  for name in f.namelist():\n",
    "    return f.read(name).split()\n",
    "  f.close()\n",
    "  \n",
    "words = read_data(filename)\n",
    "print 'Data size', len(words)"
   ]
  },
  {
   "cell_type": "markdown",
   "metadata": {
    "colab_type": "text",
    "id": "Zdw6i4F8glpp"
   },
   "source": [
    "Build the dictionary and replace rare words with UNK token."
   ]
  },
  {
   "cell_type": "code",
   "execution_count": 4,
   "metadata": {
    "cellView": "both",
    "colab": {
     "autoexec": {
      "startup": false,
      "wait_interval": 0
     },
     "output_extras": [
      {
       "item_id": 1
      }
     ]
    },
    "colab_type": "code",
    "collapsed": false,
    "executionInfo": {
     "elapsed": 28849,
     "status": "ok",
     "timestamp": 1445964497178,
     "user": {
      "color": "#1FA15D",
      "displayName": "Vincent Vanhoucke",
      "isAnonymous": false,
      "isMe": true,
      "permissionId": "05076109866853157986",
      "photoUrl": "//lh6.googleusercontent.com/-cCJa7dTDcgQ/AAAAAAAAAAI/AAAAAAAACgw/r2EZ_8oYer4/s50-c-k-no/photo.jpg",
      "sessionId": "2f1ffade4c9f20de",
      "userId": "102167687554210253930"
     },
     "user_tz": 420
    },
    "id": "gAL1EECXeZsD",
    "outputId": "3fb4ecd1-df67-44b6-a2dc-2291730970b2"
   },
   "outputs": [
    {
     "name": "stdout",
     "output_type": "stream",
     "text": [
      "Most common words (+UNK) [['UNK', 418391], ('the', 1061396), ('of', 593677), ('and', 416629), ('one', 411764)]\n",
      "Sample data [5239, 3084, 12, 6, 195, 2, 3137, 46, 59, 156]\n"
     ]
    }
   ],
   "source": [
    "vocabulary_size = 50000\n",
    "\n",
    "def build_dataset(words):\n",
    "  count = [['UNK', -1]]\n",
    "  count.extend(collections.Counter(words).most_common(vocabulary_size - 1))\n",
    "  dictionary = dict()\n",
    "  for word, _ in count:\n",
    "    dictionary[word] = len(dictionary)\n",
    "  data = list()\n",
    "  unk_count = 0\n",
    "  for word in words:\n",
    "    if word in dictionary:\n",
    "      index = dictionary[word]\n",
    "    else:\n",
    "      index = 0  # dictionary['UNK']\n",
    "      unk_count = unk_count + 1\n",
    "    data.append(index)\n",
    "  count[0][1] = unk_count\n",
    "  reverse_dictionary = dict(zip(dictionary.values(), dictionary.keys())) \n",
    "  return data, count, dictionary, reverse_dictionary\n",
    "\n",
    "data, count, dictionary, reverse_dictionary = build_dataset(words)\n",
    "print 'Most common words (+UNK)', count[:5]\n",
    "print 'Sample data', data[:10]\n",
    "del words  # Hint to reduce memory."
   ]
  },
  {
   "cell_type": "markdown",
   "metadata": {
    "colab_type": "text",
    "id": "lFwoyygOmWsL"
   },
   "source": [
    "Function to generate a training batch for the skip-gram model."
   ]
  },
  {
   "cell_type": "code",
   "execution_count": 5,
   "metadata": {
    "cellView": "both",
    "colab": {
     "autoexec": {
      "startup": false,
      "wait_interval": 0
     },
     "output_extras": [
      {
       "item_id": 1
      }
     ]
    },
    "colab_type": "code",
    "collapsed": false,
    "executionInfo": {
     "elapsed": 113,
     "status": "ok",
     "timestamp": 1445964901989,
     "user": {
      "color": "#1FA15D",
      "displayName": "Vincent Vanhoucke",
      "isAnonymous": false,
      "isMe": true,
      "permissionId": "05076109866853157986",
      "photoUrl": "//lh6.googleusercontent.com/-cCJa7dTDcgQ/AAAAAAAAAAI/AAAAAAAACgw/r2EZ_8oYer4/s50-c-k-no/photo.jpg",
      "sessionId": "2f1ffade4c9f20de",
      "userId": "102167687554210253930"
     },
     "user_tz": 420
    },
    "id": "w9APjA-zmfjV",
    "outputId": "67cccb02-cdaf-4e47-d489-43bcc8d57bb8"
   },
   "outputs": [
    {
     "name": "stdout",
     "output_type": "stream",
     "text": [
      "3084 -> 12\n",
      "originated -> as\n",
      "3084 -> 5239\n",
      "originated -> anarchism\n",
      "12 -> 3084\n",
      "as -> originated\n",
      "12 -> 6\n",
      "as -> a\n",
      "6 -> 195\n",
      "a -> term\n",
      "6 -> 12\n",
      "a -> as\n",
      "195 -> 6\n",
      "term -> a\n",
      "195 -> 2\n",
      "term -> of\n"
     ]
    }
   ],
   "source": [
    "data_index = 0\n",
    "\n",
    "def generate_batch(batch_size, num_skips, skip_window):\n",
    "  global data_index\n",
    "  assert batch_size % num_skips == 0\n",
    "  assert num_skips <= 2 * skip_window\n",
    "  batch = np.ndarray(shape=(batch_size), dtype=np.int32)\n",
    "  labels = np.ndarray(shape=(batch_size, 1), dtype=np.int32)\n",
    "  span = 2 * skip_window + 1 # [ skip_window target skip_window ]\n",
    "  buffer = collections.deque(maxlen=span)\n",
    "  for _ in range(span):\n",
    "    buffer.append(data[data_index])\n",
    "    data_index = (data_index + 1) % len(data)\n",
    "  for i in range(batch_size / num_skips):\n",
    "    target = skip_window  # target label at the center of the buffer\n",
    "    targets_to_avoid = [ skip_window ]\n",
    "    for j in range(num_skips):\n",
    "      while target in targets_to_avoid:\n",
    "        target = random.randint(0, span - 1)\n",
    "      targets_to_avoid.append(target)\n",
    "      batch[i * num_skips + j] = buffer[skip_window]\n",
    "      labels[i * num_skips + j, 0] = buffer[target]\n",
    "    buffer.append(data[data_index])\n",
    "    data_index = (data_index + 1) % len(data)\n",
    "  return batch, labels\n",
    "\n",
    "batch, labels = generate_batch(batch_size=8, num_skips=2, skip_window=1)\n",
    "for i in range(8):\n",
    "  print batch[i], '->', labels[i, 0]\n",
    "  print reverse_dictionary[batch[i]], '->', reverse_dictionary[labels[i, 0]]"
   ]
  },
  {
   "cell_type": "markdown",
   "metadata": {
    "colab_type": "text",
    "id": "Ofd1MbBuwiva"
   },
   "source": [
    "Train a skip-gram model."
   ]
  },
  {
   "cell_type": "code",
   "execution_count": 6,
   "metadata": {
    "cellView": "both",
    "colab": {
     "autoexec": {
      "startup": false,
      "wait_interval": 0
     }
    },
    "colab_type": "code",
    "collapsed": true,
    "id": "8pQKsV4Vwlzy"
   },
   "outputs": [],
   "source": [
    "batch_size = 128\n",
    "embedding_size = 128 # Dimension of the embedding vector.\n",
    "skip_window = 1 # How many words to consider left and right.\n",
    "num_skips = 2 # How many times to reuse an input to generate a label.\n",
    "# We pick a random validation set to sample nearest neighbors. here we limit the\n",
    "# validation samples to the words that have a low numeric ID, which by\n",
    "# construction are also the most frequent. \n",
    "valid_size = 16 # Random set of words to evaluate similarity on.\n",
    "valid_window = 100 # Only pick dev samples in the head of the distribution.\n",
    "valid_examples = np.array(random.sample(xrange(valid_window), valid_size))\n",
    "num_sampled = 64 # Number of negative examples to sample.\n",
    "\n",
    "graph = tf.Graph()\n",
    "\n",
    "with graph.as_default():\n",
    "\n",
    "  # Input data.\n",
    "  train_dataset = tf.placeholder(tf.int32, shape=[batch_size])\n",
    "  train_labels = tf.placeholder(tf.int32, shape=[batch_size, 1])\n",
    "  valid_dataset = tf.constant(valid_examples, dtype=tf.int32)\n",
    "  \n",
    "  # Variables.\n",
    "  embeddings = tf.Variable(\n",
    "    tf.random_uniform([vocabulary_size, embedding_size], -1.0, 1.0))\n",
    "  softmax_weights = tf.Variable(\n",
    "    tf.truncated_normal([vocabulary_size, embedding_size],\n",
    "                         stddev=1.0 / math.sqrt(embedding_size)))\n",
    "  softmax_biases = tf.Variable(tf.zeros([vocabulary_size]))\n",
    "  \n",
    "  # Model.\n",
    "  # Look up embeddings for inputs.\n",
    "  embed = tf.nn.embedding_lookup(embeddings, train_dataset)\n",
    "  # Compute the softmax loss, using a sample of the negative labels each time.\n",
    "  loss = tf.reduce_mean(\n",
    "    tf.nn.sampled_softmax_loss(softmax_weights, softmax_biases, embed,\n",
    "                               train_labels, num_sampled, vocabulary_size))\n",
    "\n",
    "  # Optimizer.\n",
    "  optimizer = tf.train.AdagradOptimizer(1.0).minimize(loss)\n",
    "  \n",
    "  # Compute the similarity between minibatch examples and all embeddings.\n",
    "  # We use the cosine distance:\n",
    "  norm = tf.sqrt(tf.reduce_sum(tf.square(embeddings), 1, keep_dims=True))\n",
    "  normalized_embeddings = embeddings / norm\n",
    "  valid_embeddings = tf.nn.embedding_lookup(\n",
    "    normalized_embeddings, valid_dataset)\n",
    "  similarity = tf.matmul(valid_embeddings, tf.transpose(normalized_embeddings))"
   ]
  },
  {
   "cell_type": "code",
   "execution_count": 7,
   "metadata": {
    "cellView": "both",
    "colab": {
     "autoexec": {
      "startup": false,
      "wait_interval": 0
     },
     "output_extras": [
      {
       "item_id": 23
      },
      {
       "item_id": 48
      },
      {
       "item_id": 61
      }
     ]
    },
    "colab_type": "code",
    "collapsed": false,
    "executionInfo": {
     "elapsed": 436189,
     "status": "ok",
     "timestamp": 1445965429787,
     "user": {
      "color": "#1FA15D",
      "displayName": "Vincent Vanhoucke",
      "isAnonymous": false,
      "isMe": true,
      "permissionId": "05076109866853157986",
      "photoUrl": "//lh6.googleusercontent.com/-cCJa7dTDcgQ/AAAAAAAAAAI/AAAAAAAACgw/r2EZ_8oYer4/s50-c-k-no/photo.jpg",
      "sessionId": "2f1ffade4c9f20de",
      "userId": "102167687554210253930"
     },
     "user_tz": 420
    },
    "id": "1bQFGceBxrWW",
    "outputId": "5ebd6d9a-33c6-4bcd-bf6d-252b0b6055e4",
    "scrolled": true
   },
   "outputs": [
    {
     "name": "stdout",
     "output_type": "stream",
     "text": [
      "Initialized\n",
      "Average loss at step 0 : 7.83800840378\n",
      "Nearest to called: gymnasium, reith, townhouse, bachchan, hesitate, cdr, overriding, necessitate,\n",
      "Nearest to that: radians, iommi, snap, encrypted, interwiki, pp, nunavut, intranet,\n",
      "Nearest to for: insisting, bongo, minesweeper, partnerships, springtime, bland, marija, medications,\n",
      "Nearest to often: hangover, testimonium, vos, wallpapers, mediocrity, uncontrolled, conquistadores, dustin,\n",
      "Nearest to in: aquitaine, mamluk, ka, aberrant, fiery, overdue, marietta, congruent,\n",
      "Nearest to s: coaching, ech, atv, replied, stepson, pomegranate, duvalier, vig,\n",
      "Nearest to there: linear, salicylate, tragedy, francophonie, authorized, quine, apparent, cyborgs,\n",
      "Nearest to have: clos, excerpt, rolle, mahmoud, moveable, typing, manchukuo, secretory,\n",
      "Nearest to to: reception, mingus, apologized, mod, heresy, diagonals, rash, veeck,\n",
      "Nearest to are: own, emirates, tinker, handle, zip, abbeys, batters, joins,\n",
      "Nearest to had: grappelli, perjury, golems, ayla, prospectors, isambard, orbison, res,\n",
      "Nearest to not: rawlings, magen, spenser, closeness, ramesses, hippo, homesick, lambdamoo,\n",
      "Nearest to after: nadezhda, dermot, sprinkled, method, felsic, underside, tunings, botha,\n",
      "Nearest to be: hast, prostrate, maj, respiratory, seagram, inland, dtmf, boasting,\n",
      "Nearest to zero: emperor, tensions, announced, chromosome, tze, burrow, minimi, encrypted,\n",
      "Nearest to one: applicants, rink, dissipation, puckett, rainforest, congolese, kullervo, ray,\n",
      "Average loss at step 2000 : 4.36455987525\n",
      "Average loss at step 4000 : 3.86139097556\n",
      "Average loss at step 6000 : 3.78846893013\n",
      "Average loss at step 8000 : 3.68493264937\n",
      "Average loss at step 10000 : 3.61737820423\n",
      "Nearest to called: townhouse, hitch, necessitate, overriding, hesitate, reith, centimeters, aircraft,\n",
      "Nearest to that: which, cannot, it, prosthetics, peyton, this, oboe, provoked,\n",
      "Nearest to for: of, with, kimono, marsupials, medications, radiocarbon, gustave, after,\n",
      "Nearest to often: ton, ais, testimonium, not, irishman, pared, galloway, widely,\n",
      "Nearest to in: on, of, at, from, between, during, and, lame,\n",
      "Nearest to s: his, revisionists, and, elke, artcyclopedia, evidences, shiraz, unarable,\n",
      "Nearest to there: it, never, still, salicylate, they, shechem, lensman, rifles,\n",
      "Nearest to have: had, be, has, are, ocs, secretory, were, do,\n",
      "Nearest to to: mod, servlet, coincidental, orientational, redevelopment, bef, can, anh,\n",
      "Nearest to are: were, is, was, have, melchior, alexandrians, could, abbeys,\n",
      "Nearest to had: has, was, have, philosophers, when, peppard, goodall, yeltsin,\n",
      "Nearest to not: it, rawlings, they, parrots, gruyter, who, no, irishman,\n",
      "Nearest to after: dermot, colombo, took, anemometers, underside, in, sedation, method,\n",
      "Nearest to be: have, laurentiis, curiously, stylings, neurological, is, respiratory, was,\n",
      "Nearest to zero: nine, six, seven, five, three, eight, four, two,\n",
      "Nearest to one: two, three, six, four, seven, eight, five, nine,\n",
      "Average loss at step 12000 : 3.60381134921\n",
      "Average loss at step 14000 : 3.5679601624\n",
      "Average loss at step 16000 : 3.40255378288\n",
      "Average loss at step 18000 : 3.45659656608\n",
      "Average loss at step 20000 : 3.53694694656\n",
      "Nearest to called: necessitate, hitch, townhouse, centimeters, bugs, chickie, hindered, grotesque,\n",
      "Nearest to that: which, however, this, but, what, cannot, it, prosthetics,\n",
      "Nearest to for: of, by, with, in, after, including, and, tr,\n",
      "Nearest to often: widely, commonly, ton, who, testimonium, also, klondike, pared,\n",
      "Nearest to in: at, on, from, and, between, of, during, by,\n",
      "Nearest to s: byelorussian, ordained, swelled, coaching, ferraris, fujian, pleated, funakoshi,\n",
      "Nearest to there: they, it, he, which, still, never, salicylate, lensman,\n",
      "Nearest to have: had, has, be, were, are, ocs, hurst, ocogs,\n",
      "Nearest to to: not, can, would, reception, coincidental, apologized, mod, transcription,\n",
      "Nearest to are: were, is, was, have, guess, other, hard, alexandrians,\n",
      "Nearest to had: has, have, were, was, philosophers, everquest, ocogs, been,\n",
      "Nearest to not: parrots, it, rawlings, never, no, now, gruyter, to,\n",
      "Nearest to after: before, from, during, with, for, pitched, resolutely, colombo,\n",
      "Nearest to be: have, been, by, being, was, were, laurentiis, stylings,\n",
      "Nearest to zero: five, six, seven, four, eight, three, nine, two,\n",
      "Nearest to one: two, four, six, eight, seven, three, nine, five,\n",
      "Average loss at step 22000 : 3.50325394571\n",
      "Average loss at step 24000 : 3.48732991654\n",
      "Average loss at step 26000 : 3.4802219013\n",
      "Average loss at step 28000 : 3.47346780115\n",
      "Average loss at step 30000 : 3.50183732057\n",
      "Nearest to called: hitch, necessitate, bugs, centimeters, townhouse, referred, chickie, laf,\n",
      "Nearest to that: which, what, this, prosthetics, lamiaceae, rushes, where, however,\n",
      "Nearest to for: when, after, with, including, wet, woodcock, of, while,\n",
      "Nearest to often: sometimes, commonly, widely, usually, frequently, typically, ton, they,\n",
      "Nearest to in: during, at, on, from, by, between, into, with,\n",
      "Nearest to s: virulence, episcopal, his, translators, wield, whose, conspicuous, www,\n",
      "Nearest to there: they, it, he, still, we, these, bending, often,\n",
      "Nearest to have: had, has, are, were, be, ocogs, overlap, do,\n",
      "Nearest to to: would, mod, can, coincidental, reception, apologized, could, galactus,\n",
      "Nearest to are: were, is, have, these, include, although, exasperation, hard,\n",
      "Nearest to had: have, has, was, were, everquest, having, is, forged,\n",
      "Nearest to not: parrots, it, never, gruyter, rawlings, they, now, often,\n",
      "Nearest to after: before, during, upon, for, when, from, woodcock, postcards,\n",
      "Nearest to be: have, been, is, refer, become, was, being, were,\n",
      "Nearest to zero: five, eight, seven, four, six, three, nine, two,\n",
      "Nearest to one: two, seven, six, eight, four, five, nine, three,\n",
      "Average loss at step 32000 : 3.49963651484\n",
      "Average loss at step 34000 : 3.4951671508\n",
      "Average loss at step 36000 : 3.45077886057\n",
      "Average loss at step 38000 : 3.30131357425\n",
      "Average loss at step 40000 : 3.43116852841\n",
      "Nearest to called: hitch, hindered, named, referred, bugs, necessitate, ops, now,\n",
      "Nearest to that: which, this, what, however, prosthetics, where, because, but,\n",
      "Nearest to for: alpine, of, from, while, in, perturbations, marsupials, including,\n",
      "Nearest to often: sometimes, usually, commonly, widely, also, typically, frequently, still,\n",
      "Nearest to in: of, during, from, since, and, nnn, with, to,\n",
      "Nearest to s: his, alvin, nativity, dict, and, kanpur, feminists, manatee,\n",
      "Nearest to there: they, it, he, she, still, now, we, often,\n",
      "Nearest to have: had, has, were, are, be, counterintelligence, overlap, tones,\n",
      "Nearest to to: will, would, could, must, in, from, might, for,\n",
      "Nearest to are: were, have, is, but, include, be, henriques, these,\n",
      "Nearest to had: has, have, was, were, everquest, having, been, began,\n",
      "Nearest to not: parrots, never, they, it, still, often, politically, gruyter,\n",
      "Nearest to after: before, during, when, woodcock, nilo, nostra, upon, birley,\n",
      "Nearest to be: have, been, become, was, refer, is, are, being,\n",
      "Nearest to zero: seven, five, six, eight, nine, three, four, two,\n",
      "Nearest to one: seven, six, four, two, eight, five, three, nine,\n",
      "Average loss at step 42000 : 3.43607837462\n",
      "Average loss at step 44000 : 3.46070492446\n",
      "Average loss at step 46000 : 3.45068502253\n",
      "Average loss at step 48000 : 3.34990630823\n",
      "Average loss at step 50000 : 3.38225938839\n",
      "Nearest to called: referred, named, strategist, bugs, hitch, tra, laf, ops,\n",
      "Nearest to that: which, however, what, this, rushes, because, but, beneficiary,\n",
      "Nearest to for: including, while, brahms, bongo, encirclement, marsupials, of, despite,\n",
      "Nearest to often: sometimes, usually, commonly, generally, widely, now, typically, frequently,\n",
      "Nearest to in: during, within, of, from, on, between, until, under,\n",
      "Nearest to s: and, crawford, kaposi, whose, authentically, lzw, his, harlow,\n",
      "Nearest to there: they, it, he, she, now, bending, often, these,\n",
      "Nearest to have: had, has, were, be, are, overlap, never, tend,\n",
      "Nearest to to: reception, would, apologized, could, rafik, coincidental, nite, must,\n",
      "Nearest to are: were, is, have, include, be, those, christadelphians, these,\n",
      "Nearest to had: has, have, was, having, everquest, were, been, arsacid,\n",
      "Nearest to not: never, parrots, now, they, it, nothing, generally, still,\n",
      "Nearest to after: before, during, when, while, through, upon, woodcock, avars,\n",
      "Nearest to be: been, have, being, was, were, refer, become, is,\n",
      "Nearest to zero: eight, five, seven, six, four, three, nine, two,\n",
      "Nearest to one: six, two, eight, four, seven, nine, five, three,\n",
      "Average loss at step 52000 : 3.43385399222\n",
      "Average loss at step 54000 : 3.42597358894\n",
      "Average loss at step 56000 : 3.43250816977\n",
      "Average loss at step 58000 : 3.39124532455\n",
      "Average loss at step 60000 : 3.39822992182\n",
      "Nearest to called: named, used, referred, strategist, bugs, vj, piano, bridgehead,\n",
      "Nearest to that: which, what, however, this, cannot, prosthetics, there, who,\n",
      "Nearest to for: of, including, brahms, alpine, vdp, perturbations, while, when,\n",
      "Nearest to often: sometimes, usually, commonly, generally, typically, now, widely, frequently,\n",
      "Nearest to in: within, during, of, on, bentine, amid, into, between,\n",
      "Nearest to s: virulence, hazmi, fairgrounds, whose, habibullah, faso, sheen, dhea,\n",
      "Nearest to there: they, it, now, he, still, we, this, she,\n",
      "Nearest to have: has, had, are, were, be, include, tones, overlap,\n",
      "Nearest to to: orientational, must, not, rafik, reception, only, would, furthest,\n",
      "Nearest to are: were, is, have, including, include, those, be, these,\n",
      "Nearest to had: has, have, was, having, were, everquest, been, began,\n",
      "Nearest to not: never, now, they, gruyter, still, parrots, officially, nothing,\n",
      "Nearest to after: before, during, when, while, upon, following, through, nilo,\n",
      "Nearest to be: been, was, is, being, have, refer, by, become,\n",
      "Nearest to zero: five, four, eight, seven, six, three, nine, two,\n",
      "Nearest to one: four, eight, two, five, six, seven, nine, three,\n",
      "Average loss at step 62000 : 3.23845748353\n",
      "Average loss at step 64000 : 3.2615644781\n",
      "Average loss at step 66000 : 3.40705983353\n",
      "Average loss at step 68000 : 3.39231947613\n",
      "Average loss at step 70000 : 3.35423398733\n",
      "Nearest to called: named, referred, vj, strategist, piano, used, hitch, bugs,\n",
      "Nearest to that: which, however, what, this, often, prosthetics, but, where,\n",
      "Nearest to for: including, while, in, after, liqueurs, of, brahms, vdp,\n",
      "Nearest to often: sometimes, usually, commonly, generally, now, frequently, typically, also,\n",
      "Nearest to in: within, during, on, for, through, from, until, since,\n",
      "Nearest to s: the, whose, shipwreck, ifor, soybeans, habibullah, interned, infamy,\n",
      "Nearest to there: they, it, he, now, we, still, she, usually,\n",
      "Nearest to have: had, has, are, were, include, be, tend, everquest,\n",
      "Nearest to to: will, must, would, can, could, may, cannot, deliberately,\n",
      "Nearest to are: were, have, include, although, is, these, those, including,\n",
      "Nearest to had: has, have, was, were, everquest, having, arsacid, recently,\n",
      "Nearest to not: now, nothing, never, still, generally, parrots, usually, gruyter,\n",
      "Nearest to after: before, during, when, upon, while, though, following, through,\n",
      "Nearest to be: been, become, being, were, have, is, was, are,\n",
      "Nearest to zero: five, four, six, eight, seven, three, nine, two,\n",
      "Nearest to one: seven, six, four, two, five, eight, three, nine,\n",
      "Average loss at step 72000 : 3.37810744834\n",
      "Average loss at step 74000 : 3.34588977788\n",
      "Average loss at step 76000 : 3.3149637146\n",
      "Average loss at step 78000 : 3.34903916144\n",
      "Average loss at step 80000 : 3.38244709051\n",
      "Nearest to called: named, referred, used, known, hitch, bugs, abbreviations, strategist,\n",
      "Nearest to that: which, however, where, what, this, who, although, discretionary,\n",
      "Nearest to for: separating, including, vdp, after, cukor, menacing, prompts, marsupials,\n",
      "Nearest to often: sometimes, usually, generally, commonly, typically, frequently, now, widely,\n",
      "Nearest to in: during, on, within, until, at, from, throughout, bentine,\n",
      "Nearest to s: faso, chan, habibullah, vilas, resonate, mikvah, isbn, virulence,\n",
      "Nearest to there: they, it, he, we, she, now, still, usually,\n",
      "Nearest to have: had, has, be, were, are, everquest, include, having,\n",
      "Nearest to to: coincidental, nite, will, would, galactus, anh, sparrow, decimated,\n",
      "Nearest to are: were, have, is, include, although, these, contain, those,\n",
      "Nearest to had: has, have, were, was, everquest, having, began, been,\n",
      "Nearest to not: still, never, nothing, parrots, now, generally, it, politically,\n",
      "Nearest to after: before, during, when, upon, while, though, through, following,\n",
      "Nearest to be: been, have, being, become, procreation, was, refer, were,\n",
      "Nearest to zero: five, seven, four, six, three, eight, nine, two,\n",
      "Nearest to one: seven, six, eight, three, two, four, five, nine,\n",
      "Average loss at step 82000 : 3.40226530135\n",
      "Average loss at step 84000 : 3.41224050051\n",
      "Average loss at step 86000 : 3.38942014405\n",
      "Average loss at step 88000 : 3.35277873749\n",
      "Average loss at step 90000 : 3.36634912872\n",
      "Nearest to called: named, referred, used, known, bugs, considered, laf, abbreviations,\n",
      "Nearest to that: which, however, what, resizing, strongly, erc, whom, also,\n",
      "Nearest to for: including, of, while, teimanim, without, despite, bongo, yue,\n",
      "Nearest to often: sometimes, usually, generally, commonly, frequently, typically, now, widely,\n",
      "Nearest to in: within, during, under, with, around, between, of, amid,\n",
      "Nearest to s: whose, his, isbn, joe, spoof, interned, vilas, artcyclopedia,\n",
      "Nearest to there: they, it, he, now, still, we, she, sometimes,\n",
      "Nearest to have: had, has, were, be, possess, are, everquest, tend,\n",
      "Nearest to to: will, would, must, apologized, servlet, should, coincidental, towards,\n",
      "Nearest to are: were, include, is, have, these, although, those, contain,\n",
      "Nearest to had: has, have, was, were, having, everquest, began, maintains,\n",
      "Nearest to not: still, politically, never, nor, nothing, now, gruyter, we,\n",
      "Nearest to after: before, during, when, while, upon, until, though, despite,\n",
      "Nearest to be: been, become, being, have, refer, was, is, procreation,\n",
      "Nearest to zero: five, eight, seven, six, four, two, three, nine,\n",
      "Nearest to one: seven, eight, four, six, two, five, nine, three,\n",
      "Average loss at step 92000 : 3.4001323123\n",
      "Average loss at step 94000 : 3.2480566946\n",
      "Average loss at step 96000 : 3.35781881106\n",
      "Average loss at step 98000 : 3.2426491273\n",
      "Average loss at step 100000 : 3.35614049226\n",
      "Nearest to called: named, referred, used, known, bugs, laf, considered, vegan,\n",
      "Nearest to that: which, what, however, who, plissken, this, wrists, shake,\n",
      "Nearest to for: without, including, when, after, before, teimanim, granules, if,\n",
      "Nearest to often: sometimes, usually, generally, commonly, frequently, typically, now, widely,\n",
      "Nearest to in: during, within, on, from, at, of, throughout, into,\n",
      "Nearest to s: whose, his, virulence, galli, dict, resonate, mikvah, the,\n",
      "Nearest to there: they, he, it, we, now, still, often, sometimes,\n",
      "Nearest to have: had, has, are, were, be, having, require, everquest,\n",
      "Nearest to to: will, must, could, can, should, shall, would, coincidental,\n",
      "Nearest to are: were, have, is, include, those, be, these, although,\n",
      "Nearest to had: has, have, was, everquest, having, were, since, inviscid,\n",
      "Nearest to not: never, nothing, nor, gruyter, parrots, politically, officially, better,\n",
      "Nearest to after: before, during, when, upon, without, despite, although, through,\n",
      "Nearest to be: been, become, being, have, refer, is, are, sequentially,\n",
      "Nearest to zero: five, four, eight, seven, six, three, nine, two,\n",
      "Nearest to one: five, eight, seven, six, two, nine, four, three,\n"
     ]
    }
   ],
   "source": [
    "num_steps = 100001\n",
    "\n",
    "with tf.Session(graph=graph) as session:\n",
    "  tf.initialize_all_variables().run()\n",
    "  print \"Initialized\"\n",
    "  average_loss = 0\n",
    "  for step in xrange(num_steps):\n",
    "    batch_data, batch_labels = generate_batch(\n",
    "      batch_size, num_skips, skip_window)\n",
    "    feed_dict = {train_dataset : batch_data, train_labels : batch_labels}\n",
    "    _, l = session.run([optimizer, loss], feed_dict=feed_dict)\n",
    "    average_loss += l\n",
    "    if step % 2000 == 0:\n",
    "      if step > 0:\n",
    "        average_loss = average_loss / 2000\n",
    "      # The average loss is an estimate of the loss over the last 2000 batches.\n",
    "      print \"Average loss at step\", step, \":\", average_loss\n",
    "      average_loss = 0\n",
    "    # note that this is expensive (~20% slowdown if computed every 500 steps)\n",
    "    if step % 10000 == 0:\n",
    "      sim = similarity.eval()\n",
    "      for i in xrange(valid_size):\n",
    "        valid_word = reverse_dictionary[valid_examples[i]]\n",
    "        top_k = 8 # number of nearest neighbors\n",
    "        nearest = (-sim[i, :]).argsort()[1:top_k+1]\n",
    "        log = \"Nearest to %s:\" % valid_word\n",
    "        for k in xrange(top_k):\n",
    "          close_word = reverse_dictionary[nearest[k]]\n",
    "          log = \"%s %s,\" % (log, close_word)\n",
    "        print log\n",
    "  final_embeddings = normalized_embeddings.eval()"
   ]
  },
  {
   "cell_type": "code",
   "execution_count": 8,
   "metadata": {
    "cellView": "both",
    "colab": {
     "autoexec": {
      "startup": false,
      "wait_interval": 0
     }
    },
    "colab_type": "code",
    "collapsed": true,
    "id": "jjJXYA_XzV79"
   },
   "outputs": [],
   "source": [
    "num_points = 400\n",
    "\n",
    "tsne = TSNE(perplexity=30, n_components=2, init='pca', n_iter=5000)\n",
    "two_d_embeddings = tsne.fit_transform(final_embeddings[1:num_points+1, :])"
   ]
  },
  {
   "cell_type": "code",
   "execution_count": 9,
   "metadata": {
    "cellView": "both",
    "colab": {
     "autoexec": {
      "startup": false,
      "wait_interval": 0
     },
     "output_extras": [
      {
       "item_id": 1
      }
     ]
    },
    "colab_type": "code",
    "collapsed": false,
    "executionInfo": {
     "elapsed": 4763,
     "status": "ok",
     "timestamp": 1445965465525,
     "user": {
      "color": "#1FA15D",
      "displayName": "Vincent Vanhoucke",
      "isAnonymous": false,
      "isMe": true,
      "permissionId": "05076109866853157986",
      "photoUrl": "//lh6.googleusercontent.com/-cCJa7dTDcgQ/AAAAAAAAAAI/AAAAAAAACgw/r2EZ_8oYer4/s50-c-k-no/photo.jpg",
      "sessionId": "2f1ffade4c9f20de",
      "userId": "102167687554210253930"
     },
     "user_tz": 420
    },
    "id": "o_e0D_UezcDe",
    "outputId": "df22e4a5-e8ec-4e5e-d384-c6cf37c68c34"
   },
   "outputs": [],
   "source": [
    "def plot(embeddings, labels):\n",
    "  assert embeddings.shape[0] >= len(labels), 'More labels than embeddings'\n",
    "  pylab.figure(figsize=(15,15))  # in inches\n",
    "  for i, label in enumerate(labels):\n",
    "    x, y = embeddings[i,:]\n",
    "    pylab.scatter(x, y)\n",
    "    pylab.annotate(label, xy=(x, y), xytext=(5, 2), textcoords='offset points',\n",
    "                   ha='right', va='bottom')\n",
    "  pylab.show()\n",
    "\n",
    "words = [reverse_dictionary[i] for i in xrange(1, num_points+1)]\n",
    "plot(two_d_embeddings, words)"
   ]
  },
  {
   "cell_type": "markdown",
   "metadata": {
    "colab_type": "text",
    "id": "QB5EFrBnpNnc"
   },
   "source": [
    "---\n",
    "\n",
    "Problem\n",
    "-------\n",
    "\n",
    "An alternative to Word2Vec is called [CBOW](http://arxiv.org/abs/1301.3781) (Continuous Bag of Words). In the CBOW model, instead of predicting a context word from a word vector, you predict a word from the sum of all the word vectors in its context. Implement and evaluate a CBOW model trained on the text8 dataset.\n",
    "\n",
    "---"
   ]
  }
 ],
 "metadata": {
  "colab": {
   "default_view": {},
   "name": "5_word2vec.ipynb",
   "version": "0.3.2",
   "views": {}
  },
  "kernelspec": {
   "display_name": "Python 2",
   "language": "python",
   "name": "python2"
  },
  "language_info": {
   "codemirror_mode": {
    "name": "ipython",
    "version": 2
   },
   "file_extension": ".py",
   "mimetype": "text/x-python",
   "name": "python",
   "nbconvert_exporter": "python",
   "pygments_lexer": "ipython2",
   "version": "2.7.11"
  }
 },
 "nbformat": 4,
 "nbformat_minor": 0
}
